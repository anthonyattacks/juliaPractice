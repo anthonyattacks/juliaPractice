{
 "cells": [
  {
   "cell_type": "markdown",
   "metadata": {},
   "source": [
    "# General Math Calculators"
   ]
  },
  {
   "cell_type": "markdown",
   "metadata": {},
   "source": [
    "## Unit Conversion Calculator"
   ]
  },
  {
   "cell_type": "markdown",
   "metadata": {},
   "source": [
    "### Imperial to Metric"
   ]
  },
  {
   "cell_type": "code",
   "execution_count": null,
   "metadata": {},
   "outputs": [],
   "source": []
  },
  {
   "cell_type": "markdown",
   "metadata": {},
   "source": [
    "### Metric to Imperial"
   ]
  },
  {
   "cell_type": "code",
   "execution_count": null,
   "metadata": {},
   "outputs": [],
   "source": []
  },
  {
   "cell_type": "markdown",
   "metadata": {},
   "source": [
    "### Other to Metric and Imperial"
   ]
  },
  {
   "cell_type": "code",
   "execution_count": null,
   "metadata": {},
   "outputs": [],
   "source": []
  },
  {
   "cell_type": "markdown",
   "metadata": {},
   "source": [
    "## Geometry Calculator"
   ]
  },
  {
   "cell_type": "markdown",
   "metadata": {},
   "source": [
    "### Geometry Basics\n",
    "* Perimeter\n",
    "* Area\n",
    "* Volume\n",
    "* Surface Area"
   ]
  },
  {
   "cell_type": "code",
   "execution_count": 6,
   "metadata": {},
   "outputs": [
    {
     "data": {
      "text/plain": [
       "#15 (generic function with 1 method)"
      ]
     },
     "metadata": {},
     "output_type": "display_data"
    }
   ],
   "source": [
    "#=\n",
    "Perimeter\n",
    "=#\n",
    "\n",
    "#Circle\n",
    "function circumference(radius)\n",
    "  return 2*pi*radius\n",
    "end\n",
    "\n",
    "#Triangle\n",
    "function triPerimeter(a,b,c)\n",
    "  return a+b+c\n",
    "end\n",
    "\n",
    "#Quadrilateral\n",
    "function quadPerimeter(length,width)\n",
    "  return (2*length)+(2*width)\n",
    "end\n",
    "\n",
    "\n",
    "#=\n",
    "Area\n",
    "=#\n",
    "#Circle\n",
    "cirArea(radius) = return pi*(radius^2)\n",
    "\n",
    "#Triangle\n",
    "triArea(base,height) = return .5*base*height\n",
    "\n",
    "#Quadrilateral\n",
    "quadArea(length,width) = return length*width\n",
    "\n",
    "#Parallelogram\n",
    "paraArea(base,height) = return base*height\n",
    "\n",
    "#=\n",
    "Volume\n",
    "=#\n",
    "\n",
    "#Sphere\n",
    "sphereVolume = radius -> (4/3)*pi*(radius^3)\n",
    "\n",
    "#Cylinder\n",
    "cylinderVolume = (radius,height) -> cirArea(radius)*height\n",
    "\n",
    "#Cone\n",
    "coneVolume = (radius,height) -> pi*(radius ^ 2)*(height/3)\n",
    "\n",
    "#Hexahedron (cube)\n",
    "hexahedronVolume = (length,width,depth) -> length*width*depth\n",
    "\n",
    "#=\n",
    "Surface Area\n",
    "=#\n",
    "\n",
    "#Sphere\n",
    "function surfSphere(radius,height)\n",
    "  return 4*pi*(radius^2)\n",
    "end\n",
    "\n",
    "#Cone (total)\n",
    "function surfCone(radius,slant)\n",
    "  return pi*radius*(radius+slant)\n",
    "end\n",
    "\n",
    "#Cylinder\n",
    "function surfCylinder(radius,height)\n",
    "  return 2*pi*radius*(radius+height)\n",
    "end\n",
    "\n",
    "#Prism\n",
    "function surfPrism(baseLength,baseWidth,height)\n",
    "  #Lateral Surface Area\n",
    "  lsa = quadPerimeter(baseLength,baseWidth)*height\n",
    "  #Area of the Base\n",
    "  aotb = quadArea(baseLength,baseWidth)\n",
    "  return lsa+(2*aotb)\n",
    "end\n",
    "\n",
    "#Cube\n",
    "function surfCube(side)\n",
    "  return 4*(side^2)\n",
    "end\n",
    "\n",
    "#Rectangle\n",
    "function surfRectangle(length,width,heigth)\n",
    "  return 2*height*(length+width)\n",
    "end\n",
    "\n",
    "#Pyramid\n",
    "function surfPyramid(baseLength,baseWidth,slantHeight)\n",
    "  #Perimeter of the Base\n",
    "  potb = quadPerimeter(baseLength,baseWidth)\n",
    "  #Lateral Surface Area\n",
    "  lsa = .5*potb*slantHeight\n",
    "  return lsa + potb\n",
    "end\n",
    "\n",
    "#=\n",
    "Unfiled\n",
    "=#\n",
    "\n",
    "#Sum of Interior Angles\n"
   ]
  },
  {
   "cell_type": "code",
   "execution_count": 28,
   "metadata": {},
   "outputs": [
    {
     "data": {
      "text/plain": [
       "1178.0972450961724"
      ]
     },
     "metadata": {},
     "output_type": "display_data"
    }
   ],
   "source": []
  },
  {
   "cell_type": "markdown",
   "metadata": {},
   "source": [
    "## Algebra Calculator"
   ]
  },
  {
   "cell_type": "markdown",
   "metadata": {},
   "source": [
    "### Coordinate Geometry Basics"
   ]
  },
  {
   "cell_type": "code",
   "execution_count": null,
   "metadata": {},
   "outputs": [],
   "source": [
    "#Equation of a Line\n",
    "\n",
    "\n",
    "#Equation of the Slope\n",
    "\n",
    "\n",
    "#Point-Slope Form\n",
    "\n",
    "\n",
    "#Distance Between Two Points\n",
    "\n",
    "\n",
    "#Midpoint"
   ]
  },
  {
   "cell_type": "markdown",
   "metadata": {},
   "source": [
    "### Quadratics"
   ]
  },
  {
   "cell_type": "code",
   "execution_count": null,
   "metadata": {},
   "outputs": [],
   "source": [
    "#Quadratic Formula ax^2+bx+c = 0 etc\n",
    "\n",
    "\n",
    "#Quadratic Formula -b+= sqrt etc over 2a"
   ]
  },
  {
   "cell_type": "markdown",
   "metadata": {},
   "source": []
  },
  {
   "cell_type": "markdown",
   "metadata": {},
   "source": [
    "## Calculus Calculator"
   ]
  },
  {
   "cell_type": "markdown",
   "metadata": {},
   "source": [
    "# Statistics Calculator"
   ]
  },
  {
   "cell_type": "markdown",
   "metadata": {},
   "source": [
    "## Probability (Frequentist)"
   ]
  },
  {
   "cell_type": "code",
   "execution_count": null,
   "metadata": {},
   "outputs": [],
   "source": [
    "function factorial(n)\n",
    "  #practice recursion here"
   ]
  },
  {
   "cell_type": "markdown",
   "metadata": {},
   "source": [
    "# Biology Calculators"
   ]
  },
  {
   "cell_type": "markdown",
   "metadata": {},
   "source": [
    "# Chemistry Calculators"
   ]
  },
  {
   "cell_type": "markdown",
   "metadata": {},
   "source": [
    "# Physics Calculators"
   ]
  }
 ],
 "metadata": {
  "kernelspec": {
   "display_name": "Julia 1.6.2",
   "language": "julia",
   "name": "julia-1.6"
  },
  "language_info": {
   "file_extension": ".jl",
   "mimetype": "application/julia",
   "name": "julia",
   "version": "1.6.2"
  },
  "orig_nbformat": 4
 },
 "nbformat": 4,
 "nbformat_minor": 2
}
