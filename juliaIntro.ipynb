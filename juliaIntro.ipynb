{
 "cells": [
  {
   "cell_type": "markdown",
   "metadata": {},
   "source": [
    "# Getting started - Variables and Printing"
   ]
  },
  {
   "cell_type": "code",
   "execution_count": 16,
   "metadata": {},
   "outputs": [
    {
     "name": "stdout",
     "output_type": "stream",
     "text": [
      "string\n"
     ]
    },
    {
     "data": {
      "text/plain": [
       "Float64"
      ]
     },
     "metadata": {},
     "output_type": "display_data"
    }
   ],
   "source": [
    "println(\"string\") # print line\n",
    "someVar = 42 # assign a variable; note: emojies / unicode can also be variable declarations. \n",
    "\n",
    "var1, var2, var3 = 1,2,3 # Assignment can also occur for multiple variables / assignments, each separated by columns\n",
    "typeof(someVar) # get datatype\n",
    "\n",
    "# syntax for basic math: +, -, *, /, ^, %(modulo)\n",
    "\n",
    "# Other important operators: ! for not, && for and, || for or\n",
    "#=\n",
    "\n",
    "Documentation for conversion and promotion:\n",
    "https://docs.julialang.org/en/v1/manual/conversion-and-promotion/\n",
    "\n",
    "Documentation for datatypes:\n",
    "https://syl1.gitbook.io/julia-language-a-concise-tutorial/language-core/data-types\n",
    "\n",
    "Function: convert(datatype,variable)\n",
    "\n",
    "Julia datatypes:\n",
    "\n",
    "Scalars:\n",
    "Int64\n",
    "Float64\n",
    "Char\n",
    "String\n",
    "Bool\n",
    "\n",
    "Vectors:\n",
    "Arrays (lists)\n",
    "Tuples\n",
    "Dictionaries\n",
    "=#\n",
    "\n",
    "otherVar = convert(Float64,someVar)\n",
    "typeof(otherVar)"
   ]
  },
  {
   "cell_type": "markdown",
   "metadata": {},
   "source": [
    "# Strings"
   ]
  },
  {
   "cell_type": "code",
   "execution_count": 9,
   "metadata": {},
   "outputs": [
    {
     "name": "stdout",
     "output_type": "stream",
     "text": [
      "hello, my name is anthony\n",
      "five plus six is 11\n",
      "how many cats are too many cats?\n",
      "10 cats are too many.\n",
      "anthonyanthony\n",
      "anthony anthony\n"
     ]
    }
   ],
   "source": [
    "# String basics\n",
    "\n",
    "s1 = \"string\" #can't use quotes within string without escaping, messy\n",
    "s2 = \"\"\"string\"\"\" #allows for quotes used within the string\n",
    "c1 = 'c' #can only enclose single characters in single quotes\n",
    "\n",
    "name = \"anthony\"\n",
    "num1 = 5\n",
    "num2 = 6\n",
    "\n",
    "# Interpolation\n",
    "\n",
    "println(\"hello, my name is $name\") #in-line interpolation\n",
    "println(\"five plus six is $(num1+num2)\") #math in-line\n",
    "\n",
    "# Concatenation\n",
    "\n",
    "println(string(\"how many cats\", \" are too many cats?\")) #concatenate with the string() function\n",
    "println(string(10, \" cats are too many.\")) #convert integers to string literals\n",
    "println(name * name) #using the multiplier to concatenate\n",
    "println(\"$name $name\") #using interpolation to concatenate"
   ]
  },
  {
   "cell_type": "markdown",
   "metadata": {},
   "source": [
    "# Data Structures"
   ]
  },
  {
   "cell_type": "code",
   "execution_count": 5,
   "metadata": {},
   "outputs": [
    {
     "data": {
      "text/plain": [
       "Dict{String, String} with 2 entries:\n",
       "  \"Anteater\" => \"An animal that eats ants not for sustenance, but for the thril…\n",
       "  \"Aardvark\" => \"A rabbit mixed with an anteater\""
      ]
     },
     "metadata": {},
     "output_type": "display_data"
    }
   ],
   "source": [
    "#Dictionaries\n",
    "\n",
    "#=\n",
    "Dictionaries are unordered and immutable; entries are stored as key-value pairs. They cannot be indexed into (ie. testDictionary[1] assumes you're looking for a key named 1, will not return index 1 since there is no index)\n",
    "=#\n",
    "\n",
    "\n",
    "testDictionary = Dict(\"Aardvark\" => \"A rabbit mixed with an anteater\", \"Rabbit\" => \"A vegetable thief covered in Hare\")\n",
    "testDictionary[\"Anteater\"] = \"An animal that eats ants not for sustenance, but for the thrill\"\n",
    "\n",
    "testDictionary \n",
    "testDictionary[\"Rabbit\"] # given key, returns value\n",
    "\n",
    "pop!(testDictionary, \"Rabbit\") # Deletes a key-value pair from a dictionary\n",
    "testDictionary"
   ]
  },
  {
   "cell_type": "code",
   "execution_count": 6,
   "metadata": {},
   "outputs": [
    {
     "data": {
      "text/plain": [
       "5"
      ]
     },
     "metadata": {},
     "output_type": "display_data"
    }
   ],
   "source": [
    "#Tuples\n",
    "\n",
    "#=\n",
    "Tuples are ordered, but they are also immutable. Once declared, they cannot be updated / added to / removed from / changed (ie. theBestNumbers[1] = 3 would return an error; you cannot rewrite the tuple at index 1.)\n",
    "=#\n",
    "\n",
    "theBestNumbers = (5,6,7,8) # establish tuple; only requires ()\n",
    "theBestNumbers[1] # returns 5; THIS IS BECAUSE JULIA IS 1 INDEXED, RATHER THAN 0 INDEXED; SO WE START COUNTING AT 1\n"
   ]
  },
  {
   "cell_type": "code",
   "execution_count": 9,
   "metadata": {},
   "outputs": [
    {
     "data": {
      "text/plain": [
       "5×3 Matrix{Float64}:\n",
       " 0.663589  0.885117  0.44485\n",
       " 0.847994  0.707955  0.242752\n",
       " 0.25374   0.757297  0.921534\n",
       " 0.821814  0.730644  0.302835\n",
       " 0.199719  0.33029   0.0665457"
      ]
     },
     "metadata": {},
     "output_type": "display_data"
    }
   ],
   "source": [
    "#Arrays\n",
    "\n",
    "#=\n",
    "Arrays are both mutable, and ordered. So they can be added to, have elements removed, changed, updated, etc. They can also be addressed by index.\n",
    "=#\n",
    "\n",
    "fibonacci = [1, 1, 2, 3, 5, 8, 13] # Only requires []\n",
    "\n",
    "fibonacci[3] # Can be indexed into, just like tuples; this command returns the 3rd item: 2 (still indexed at 1)\n",
    "\n",
    "mixedArray = [1, 5, \"dog\", 6.0, \"c\"] # mixed arrays are possible. typeof() returns \"any\"\n",
    "\n",
    "mixedArray[2] = \"frank\" # items at index can be changed\n",
    "\n",
    "push!(fibonacci, 21) # adds another item to the end of the arrays\n",
    "pop!(fibonacci) # removes the last item from the arrays\n",
    "\n",
    "#=\n",
    "The arrays above are one-dimensional scalars; arrays can also be multidimensional (arrays of arrays, matrices)\n",
    "=#\n",
    "\n",
    "bestWorstAnimals = [[\"dogs\",\"cats\",\"birds\"],[\"mosquitos\",\"spiders\"]]\n",
    "bestWorstAnimals\n",
    "\n",
    "#=\n",
    "Multidimensional arrays (matrices) of random values can be created with the rand() function; first argument is columns, second, rows.\n",
    "=#\n",
    "\n",
    "rand(5,3)\n",
    "\n",
    "#=\n",
    "Reassigning arrays as variables also just links a new element to the list (it creates a new way of reaching the original array). Some languages create a copy by this method (ie. array1 = data, array2 = array1). But reassigning values in the new array also reassigns them in the original array. In Julia, to create a copy of an array, one must use the copy() function:\n",
    "=#\n",
    "\n",
    "mammalsVersusBugs = copy(bestWorstAnimals)"
   ]
  },
  {
   "cell_type": "markdown",
   "metadata": {},
   "source": [
    "# Loops"
   ]
  },
  {
   "cell_type": "code",
   "execution_count": 12,
   "metadata": {},
   "outputs": [
    {
     "name": "stdout",
     "output_type": "stream",
     "text": [
      "1\n",
      "2\n",
      "3\n",
      "4\n",
      "5\n",
      "6\n",
      "7\n",
      "8\n",
      "9\n",
      "10\n",
      "Hi Ted, season 9 was your best work\n",
      "Hi Robyn, season 9 was your best work\n",
      "Hi Barney, season 9 was your best work\n",
      "Hi Lily, season 9 was your best work\n",
      "Hi Marshall, season 9 was your best work\n"
     ]
    }
   ],
   "source": [
    "# While loops\n",
    "\n",
    "#=\n",
    "Template:\n",
    "\n",
    "while *condition*\n",
    "  *loop body*\n",
    "end\n",
    "=#\n",
    "\n",
    "# A counting / printing loop\n",
    "\n",
    "n = 0\n",
    "\n",
    "while n < 10\n",
    "  n+=1\n",
    "  println(n)\n",
    "end\n",
    "\n",
    "# Iterating over an Arrays\n",
    "\n",
    "myFriends = [\"Ted\", \"Robyn\", \"Barney\", \"Lily\", \"Marshall\"]\n",
    "i = 1\n",
    "\n",
    "while i <= length(myFriends)\n",
    "  friend = myFriends[i]\n",
    "  println(\"Hi $friend, season 9 was your best work\")\n",
    "  i += 1\n",
    "end"
   ]
  },
  {
   "cell_type": "code",
   "execution_count": 18,
   "metadata": {},
   "outputs": [
    {
     "name": "stdout",
     "output_type": "stream",
     "text": [
      "1\n",
      "2\n",
      "3\n",
      "4\n",
      "5\n",
      "6\n",
      "7\n",
      "8\n",
      "9\n",
      "10\n",
      "Hi Ted, I would have liked a season 10\n",
      "Hi Robyn, I would have liked a season 10\n",
      "Hi Barney, I would have liked a season 10\n",
      "Hi Lily, I would have liked a season 10\n",
      "Hi Marshall, I would have liked a season 10\n",
      "1\n",
      "2\n",
      "3\n",
      "4\n",
      "5\n",
      "6\n",
      "7\n",
      "8\n",
      "9\n",
      "10\n",
      "Hi Ted, I would have liked a season 10\n",
      "Hi Robyn, I would have liked a season 10\n",
      "Hi Barney, I would have liked a season 10\n",
      "Hi Lily, I would have liked a season 10\n",
      "Hi Marshall, I would have liked a season 10\n"
     ]
    }
   ],
   "source": [
    "# For loops\n",
    "\n",
    "#=\n",
    "Template:\n",
    "\n",
    "for *var* in *loop iterable, ie. array, or range*\n",
    "  *loop body*\n",
    "end\n",
    "\n",
    "=#\n",
    "\n",
    "for n in 1:5\n",
    "  println(n)\n",
    "end\n",
    "\n",
    "#=\n",
    "Can also do it using the = assignment operator, or the \"this is an element of\" operator\n",
    "=#\n",
    "\n",
    "for o = 6:10\n",
    "  println(o)\n",
    "end\n",
    "\n",
    "myFriends = [\"Ted\", \"Robyn\", \"Barney\", \"Lily\", \"Marshall\"]\n",
    "\n",
    "for n in myFriends\n",
    "  println(\"Hi $n, I would have liked a season 10\")\n",
    "end"
   ]
  },
  {
   "cell_type": "code",
   "execution_count": 22,
   "metadata": {},
   "outputs": [
    {
     "data": {
      "text/plain": [
       "3×4 Matrix{Int64}:\n",
       " 2  3  4  5\n",
       " 3  4  5  6\n",
       " 4  5  6  7"
      ]
     },
     "metadata": {},
     "output_type": "display_data"
    }
   ],
   "source": [
    "#=\n",
    "For loops can also be nested\n",
    "=#\n",
    "\n",
    "a, b = 3, 4\n",
    "c = fill(0,(a,b)) # creates a matrix of zeroes using the numbers assigned by the variables a and b.\n",
    "\n",
    "for i in 1:a # for [index] in [range:1:variable a]\n",
    "  for j in 1:b # for [index] in [range:1:variable b]\n",
    "    c[i,j] = i + j # c[column: index, row: index] is equal to the sum of both indexes at this point\n",
    "  end\n",
    "end\n",
    "\n",
    "c\n",
    "\n",
    "# This results in an addition table where each entry is the sum of its row and column indices.\n",
    "\n",
    "# Done with sugar (nesting on the same line; very convoluted, would probably never do myself but helpful to see)\n",
    "\n",
    "d = fill(0,(a,b))\n",
    "\n",
    "for j in 1:b, i in 1:a # note that these are reversed, indicating which item is nested within which; furthest left is deepest in the nest.\n",
    "  d[i,j] = i + j\n",
    "end\n",
    "\n",
    "d\n",
    "\n",
    "# Finally, this can also all be put on one line\n",
    "\n",
    "e = [i + j for i in 1:a, j in 1:b] # nesting rules here return to those normal of a four loop. This is called an \"array comprehension\"\n",
    "\n",
    "e\n"
   ]
  },
  {
   "cell_type": "code",
   "execution_count": null,
   "metadata": {},
   "outputs": [],
   "source": [
    "# Practice problems\n",
    "\n",
    "# Loop over integers between 1 and 100 and print their squares.\n",
    "\n",
    "for i in 1:100\n",
    "  println(\"The square of $i is $(i^2)\")\n",
    "end\n",
    "\n",
    "# Add to the code above a bit to create a dictionary, `squares` that holds integers and their squares as key, value pairs such that\n",
    "\n",
    "squares = Dict()\n",
    "\n",
    "for i in 1:100\n",
    "  squares[i]=i^2\n",
    "end\n",
    "\n",
    "squares\n",
    "@assert squares[10] == 100\n",
    "@assert squares[11] == 121\n",
    "\n",
    "# Use an array comprehension to create an an array `squares_arr` that stores the squares for all integers between 1 and 100.\n",
    "\n",
    "#= \n",
    "\n",
    "First attempt: squares_arr = [squares_arr[i] = i^2 for i in 1:100]\n",
    "Error code: bounds error: attempt to access 0-element vector(any) at index [1]\n",
    "=#\n",
    "\n",
    "# Worked, though failed one of the assertion tests (but i think that was because the test was broken, the sum is much higher than it was in the prompt)\n",
    "squares_arr = []\n",
    "squares_arr = [push!(squares_arr,i^2) for i in 1:100]"
   ]
  },
  {
   "cell_type": "markdown",
   "metadata": {},
   "source": [
    "# Conditionals"
   ]
  },
  {
   "cell_type": "code",
   "execution_count": 24,
   "metadata": {},
   "outputs": [
    {
     "name": "stdout",
     "output_type": "stream",
     "text": [
      "1\n",
      "2\n",
      "Fizz\n",
      "4\n",
      "Buzz\n",
      "Fizz\n",
      "7\n",
      "8\n",
      "Fizz\n",
      "Buzz\n",
      "11\n",
      "Fizz\n",
      "13\n",
      "14\n",
      "FizzBuzz\n",
      "16\n",
      "17\n",
      "Fizz\n",
      "19\n",
      "Buzz\n",
      "Fizz\n",
      "22\n",
      "23\n",
      "Fizz\n",
      "Buzz\n",
      "26\n",
      "Fizz\n",
      "28\n",
      "29\n",
      "FizzBuzz\n",
      "31\n",
      "32\n",
      "Fizz\n",
      "34\n",
      "Buzz\n",
      "Fizz\n",
      "37\n",
      "38\n",
      "Fizz\n",
      "Buzz\n",
      "41\n",
      "Fizz\n",
      "43\n",
      "44\n",
      "FizzBuzz\n",
      "46\n",
      "47\n",
      "Fizz\n",
      "49\n",
      "Buzz\n",
      "Fizz\n",
      "52\n",
      "53\n",
      "Fizz\n",
      "Buzz\n",
      "56\n",
      "Fizz\n",
      "58\n",
      "59\n",
      "FizzBuzz\n",
      "61\n",
      "62\n",
      "Fizz\n",
      "64\n",
      "Buzz\n",
      "Fizz\n",
      "67\n",
      "68\n",
      "Fizz\n",
      "Buzz\n",
      "71\n",
      "Fizz\n",
      "73\n",
      "74\n",
      "FizzBuzz\n",
      "76\n",
      "77\n",
      "Fizz\n",
      "79\n",
      "Buzz\n",
      "Fizz\n",
      "82\n",
      "83\n",
      "Fizz\n",
      "Buzz\n",
      "86\n",
      "Fizz\n",
      "88\n",
      "89\n",
      "FizzBuzz\n",
      "91\n",
      "92\n",
      "Fizz\n",
      "94\n",
      "Buzz\n",
      "Fizz\n",
      "97\n",
      "98\n",
      "Fizz\n",
      "Buzz\n"
     ]
    }
   ],
   "source": [
    "# Basic If/elseif/else\n",
    "\n",
    "#=\n",
    "Template:\n",
    "\n",
    "if *condition 1*\n",
    "  *option 1*\n",
    "elseif *condition 2*\n",
    "  *option 2*\n",
    "else\n",
    "  *option 3*\n",
    "end\n",
    "\n",
    "=#\n",
    "\n",
    "# Classic fizzbuzz example\n",
    "\n",
    "#=\n",
    "Given a number (n), print \"Fizz\" if n is divisible by 3, \"Buzz\" if n is divisible by 5, and \"FizzBuzz\" if n is divisible by both 3 and 5. Otherwise, just print the number itself.\n",
    "=#\n",
    "\n",
    "n = 1\n",
    "\n",
    "while n != 101\n",
    "  if (n % 3 == 0) && (n % 5 == 0)\n",
    "    println(\"FizzBuzz\")\n",
    "    n += 1\n",
    "  elseif (n % 3 == 0)\n",
    "    println(\"Fizz\")\n",
    "    n += 1\n",
    "  elseif (n % 5 == 0)\n",
    "    println(\"Buzz\")\n",
    "    n += 1\n",
    "  else\n",
    "    println(n)\n",
    "    n += 1\n",
    "  end\n",
    "end\n",
    "\n",
    "#=\n",
    "A for loop would be the same, except the initial line would be for n in 1:100 and no variable would need to be assigned\n",
    "=#"
   ]
  },
  {
   "cell_type": "code",
   "execution_count": 27,
   "metadata": {},
   "outputs": [
    {
     "data": {
      "text/plain": [
       "40"
      ]
     },
     "metadata": {},
     "output_type": "display_data"
    }
   ],
   "source": [
    "# With ternary operators\n",
    "\n",
    "#=\n",
    "\n",
    "Template:\n",
    "\n",
    "a ? b : c\n",
    "\n",
    "As in, condition: a. ? - if a is true, do b. Otherwise, do c.\n",
    "\n",
    "Conceptually, ternary operators are closer to the machine (less readable for the programmer), but much quicker to write. They communicate what is functionally, logically the same as what's in a for loop.\n",
    "\n",
    "=#\n",
    "\n",
    "# A simple for loop without ternary operators:\n",
    "\n",
    "x = 30\n",
    "y = 40\n",
    "\n",
    "if (x > y)\n",
    "  x\n",
    "else\n",
    "  y\n",
    "end\n",
    "\n",
    "# A for loop with them:\n",
    "\n",
    "(x > y) ? x : y"
   ]
  },
  {
   "cell_type": "code",
   "execution_count": 34,
   "metadata": {},
   "outputs": [
    {
     "name": "stdout",
     "output_type": "stream",
     "text": [
      "bye\n",
      "goodbye\n"
     ]
    }
   ],
   "source": [
    "# Short circuit evaluation\n",
    "\n",
    "#=\n",
    "\n",
    "From a logic perspective, julia produces a boolean outcome from logical expressions; meaning, if you type:\n",
    "\n",
    "a && b\n",
    "\n",
    "julia will check if a is true (and if a is true, then it will check if b is true; if both are true, it will return \"true\") using logical \"and\" (or Union). If a is false, julia will not bother to check b; so, in logical terms, the function short-circuits and b is skipped (only a is evaluated).\n",
    "  \n",
    "This can also be done with conditional logic.\n",
    "\n",
    "=#\n",
    "\n",
    "false && (println(\"hi\"); true) # returns false; the second portion is not evaluated because the first term has already evaluated to false\n",
    "\n",
    "true && (println(\"bye\"); true) # returns the function in the second term as the VALUE of the overall expression (a no longer matters once it's been evaluated; so only b needs to be returned)\n",
    "\n",
    "# This also means that b doesn't even need to be true (or false, for that matter); it can be an error, or anything else. It's the term that would get returned.\n",
    "\n",
    "#=\n",
    "\n",
    "|| uses short circuit evaluation by way of the logical \"or\" (Intersection) operator. This is roughly the opposite of the && operation; only the first term is evaluated, and if that is true, the first term is returned\n",
    "\n",
    "=#\n",
    "\n",
    "true || println(\"hello\")\n",
    "false || println(\"goodbye\")"
   ]
  },
  {
   "cell_type": "code",
   "execution_count": 41,
   "metadata": {},
   "outputs": [
    {
     "name": "stdout",
     "output_type": "stream",
     "text": [
      "odd\n",
      "odd\n"
     ]
    },
    {
     "data": {
      "text/plain": [
       "\"odd\""
      ]
     },
     "metadata": {},
     "output_type": "display_data"
    }
   ],
   "source": [
    "# Practice problems\n",
    "\n",
    "# Write a conditional statement that prints a number if the number is even and the string \"odd\" if the number is odd.\n",
    "\n",
    "numVar = 7\n",
    "\n",
    "if (numVar % 2 == 0)\n",
    "  println(numVar)\n",
    "else\n",
    "  println(\"odd\")\n",
    "end\n",
    "\n",
    "# Rewrite the conditional above using a ternary operator\n",
    "\n",
    "(numVar % 2 == 0) ? numVar : \"odd\""
   ]
  },
  {
   "cell_type": "markdown",
   "metadata": {},
   "source": [
    "# Functions"
   ]
  },
  {
   "cell_type": "code",
   "execution_count": 4,
   "metadata": {},
   "outputs": [
    {
     "name": "stdout",
     "output_type": "stream",
     "text": [
      "Hi, anthony\n",
      "Hi, anthony\n",
      "Hi, anthony\n"
     ]
    }
   ],
   "source": [
    "# How to declare a function\n",
    "\n",
    "#=\n",
    "Standard way:\n",
    "\n",
    "function name(arguments)\n",
    "  body\n",
    "end\n",
    "\n",
    "Calling functions is the same as in any other language.\n",
    "=#\n",
    "\n",
    "function sayHi(name)\n",
    "  println(\"Hi, $name\")\n",
    "end\n",
    "\n",
    "sayHi(\"anthony\")\n",
    "\n",
    "#=\n",
    "Declaring a function in a single line of code:\n",
    "\n",
    "name(argument) = functionBody\n",
    "=#\n",
    "\n",
    "sayHi2(name) = println(\"Hi, $name\")\n",
    "\n",
    "sayHi2(\"anthony\")\n",
    "\n",
    "#=\n",
    "Anonymous (lambda) functions\n",
    "\n",
    "name = argument -> body\n",
    "=#\n",
    "\n",
    "sayHi3 = name -> println(\"Hi, $name\")\n",
    "\n",
    "sayHi3(\"anthony\")"
   ]
  },
  {
   "cell_type": "code",
   "execution_count": 6,
   "metadata": {},
   "outputs": [
    {
     "name": "stdout",
     "output_type": "stream",
     "text": [
      "Hi, 55595472\n"
     ]
    },
    {
     "data": {
      "text/plain": [
       "3×3 Matrix{Float64}:\n",
       " 0.0860211  0.0712347  0.053227\n",
       " 0.322968   0.33929    0.200412\n",
       " 0.26211    0.16088    0.281678"
      ]
     },
     "metadata": {},
     "output_type": "display_data"
    }
   ],
   "source": [
    "# Duck-typing in Julia\n",
    "\n",
    "#=\n",
    "Julia functions will just work on whatever inputs make sense. For example, sayHi works on the name of an integer, and mathematical functions designed for scalars work for matrices as well. However, the same mathematical functions (f(x) below) would not work on vectors if the answer was ambiguous / didn't make sense.\n",
    "=#\n",
    "\n",
    "sayHi(55595472)\n",
    "\n",
    "function f(x)\n",
    "  x^2\n",
    "end\n",
    "\n",
    "A = rand(3,3)\n",
    "\n",
    "f(A)\n",
    "\n",
    "#=\n",
    "If the input were:\n",
    "\n",
    "v = rand(3) # designates a one-dimensional array\n",
    "\n",
    "f(v)\n",
    "\n",
    "This is because the square of a vector is not a well defined operation, as opposed to the square of a matrix.\n",
    "=#\n"
   ]
  },
  {
   "cell_type": "code",
   "execution_count": 8,
   "metadata": {},
   "outputs": [
    {
     "name": "stdout",
     "output_type": "stream",
     "text": [
      "[2, 3, 5]\n",
      "[3, 5, 2]\n",
      "[2, 3, 5]\n"
     ]
    }
   ],
   "source": [
    "# Mutating vs. non-mutating functions\n",
    "\n",
    "#=\n",
    "Mutating functions are those that return an altered version of whatever you passed into them; non-mutating functions do not.\n",
    "\n",
    "By convention, functions followed by ! alter their contents and functions lacking ! do not. Example: sort vs. sort!\n",
    "=#\n",
    "\n",
    "v = [3,5,2]\n",
    "\n",
    "sort(v)\n",
    "\n",
    "println(sort(v))\n",
    "println(v)\n",
    "\n",
    "sort!(v) # pronounced sort-bang\n",
    "\n",
    "println(v)\n",
    "\n",
    "#=\n",
    "So, the convention in Julia is to follow the name of mutating functions with an exclamation point (a \"bang\" sign)\n",
    "=#\n"
   ]
  },
  {
   "cell_type": "code",
   "execution_count": 9,
   "metadata": {},
   "outputs": [
    {
     "name": "stdout",
     "output_type": "stream",
     "text": [
      "[30 36 42; 66 81 96; 102 126 150]\n",
      "[1 4 9; 16 25 36; 49 64 81]\n"
     ]
    }
   ],
   "source": [
    "# Broadcasting\n",
    "\n",
    "#=\n",
    "In a non-broadcasting function, calling the function will treat the contents as a single piece. In a broadcasting function, the function will be applied to every single element of that object rather than treating the object as a whole.\n",
    "\n",
    "By placing a \".\" between any function name and its argument list, we tell that function to broadcast over the elements of the input objects.\n",
    "\n",
    "Example: f() and f.()\n",
    "=#\n",
    "\n",
    "A = [i + 3*j for j in 0:2, i in 1:3]\n",
    "\n",
    "println(f(A))\n",
    "\n",
    "println(f.(A))\n",
    "\n",
    "#=\n",
    "The first is matrix A multiplied by matrix a\n",
    "\n",
    "For the second, at every entry of matrix B, you have the square o fthe entry at matrix A.\n",
    "=#"
   ]
  },
  {
   "cell_type": "markdown",
   "metadata": {},
   "source": [
    "# Packages"
   ]
  },
  {
   "cell_type": "code",
   "execution_count": null,
   "metadata": {},
   "outputs": [],
   "source": []
  },
  {
   "cell_type": "markdown",
   "metadata": {},
   "source": [
    "# Plotting"
   ]
  },
  {
   "cell_type": "code",
   "execution_count": null,
   "metadata": {},
   "outputs": [],
   "source": []
  },
  {
   "cell_type": "markdown",
   "metadata": {},
   "source": [
    "# Multiple Dispatch"
   ]
  },
  {
   "cell_type": "code",
   "execution_count": null,
   "metadata": {},
   "outputs": [],
   "source": []
  },
  {
   "cell_type": "markdown",
   "metadata": {},
   "source": [
    "# Julia is fast!"
   ]
  },
  {
   "cell_type": "code",
   "execution_count": null,
   "metadata": {},
   "outputs": [],
   "source": []
  },
  {
   "cell_type": "markdown",
   "metadata": {},
   "source": [
    "# Basic Linear Algebra"
   ]
  },
  {
   "cell_type": "code",
   "execution_count": null,
   "metadata": {},
   "outputs": [],
   "source": []
  },
  {
   "cell_type": "markdown",
   "metadata": {},
   "source": [
    "# Factorizations"
   ]
  },
  {
   "cell_type": "code",
   "execution_count": null,
   "metadata": {},
   "outputs": [],
   "source": []
  },
  {
   "cell_type": "markdown",
   "metadata": {},
   "source": [
    "# Course Wrap Up"
   ]
  },
  {
   "cell_type": "code",
   "execution_count": null,
   "metadata": {},
   "outputs": [],
   "source": []
  }
 ],
 "metadata": {
  "kernelspec": {
   "display_name": "Julia 1.7.1",
   "language": "julia",
   "name": "julia-1.7"
  },
  "language_info": {
   "file_extension": ".jl",
   "mimetype": "application/julia",
   "name": "julia",
   "version": "1.7.1"
  },
  "orig_nbformat": 4
 },
 "nbformat": 4,
 "nbformat_minor": 2
}
