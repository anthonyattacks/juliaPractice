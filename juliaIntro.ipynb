{
 "cells": [
  {
   "cell_type": "markdown",
   "metadata": {},
   "source": [
    "# Getting started - Variables and Printing"
   ]
  },
  {
   "cell_type": "code",
   "execution_count": 6,
   "metadata": {},
   "outputs": [
    {
     "name": "stdout",
     "output_type": "stream",
     "text": [
      "string\n"
     ]
    },
    {
     "data": {
      "text/plain": [
       "Float64"
      ]
     },
     "metadata": {},
     "output_type": "display_data"
    }
   ],
   "source": [
    "println(\"string\") # print line\n",
    "someVar = 42 # assign a variable; note: emojies / unicode can also be variable declarations\n",
    "typeof(someVar) # get datatype\n",
    "\n",
    "# syntax for basic math: +, -, *, /, ^, %(modulo)\n",
    "\n",
    "#=\n",
    "\n",
    "Documentation for conversion and promotion:\n",
    "https://docs.julialang.org/en/v1/manual/conversion-and-promotion/\n",
    "\n",
    "Documentation for datatypes:\n",
    "https://syl1.gitbook.io/julia-language-a-concise-tutorial/language-core/data-types\n",
    "\n",
    "Function: convert(datatype,variable)\n",
    "\n",
    "Julia datatypes:\n",
    "\n",
    "Scalars:\n",
    "Int64\n",
    "Float64\n",
    "Char\n",
    "String\n",
    "Bool\n",
    "\n",
    "Vectors:\n",
    "Arrays (lists)\n",
    "Tuples\n",
    "Dictionaries\n",
    "=#\n",
    "\n",
    "otherVar = convert(Float64,someVar)\n",
    "typeof(otherVar)"
   ]
  },
  {
   "cell_type": "markdown",
   "metadata": {},
   "source": [
    "# Strings"
   ]
  },
  {
   "cell_type": "code",
   "execution_count": 9,
   "metadata": {},
   "outputs": [
    {
     "name": "stdout",
     "output_type": "stream",
     "text": [
      "hello, my name is anthony\n",
      "five plus six is 11\n",
      "how many cats are too many cats?\n",
      "10 cats are too many.\n",
      "anthonyanthony\n",
      "anthony anthony\n"
     ]
    }
   ],
   "source": [
    "# String basics\n",
    "\n",
    "s1 = \"string\" #can't use quotes within string without escaping, messy\n",
    "s2 = \"\"\"string\"\"\" #allows for quotes used within the string\n",
    "c1 = 'c' #can only enclose single characters in single quotes\n",
    "\n",
    "name = \"anthony\"\n",
    "num1 = 5\n",
    "num2 = 6\n",
    "\n",
    "# Interpolation\n",
    "\n",
    "println(\"hello, my name is $name\") #in-line interpolation\n",
    "println(\"five plus six is $(num1+num2)\") #math in-line\n",
    "\n",
    "# Concatenation\n",
    "\n",
    "println(string(\"how many cats\", \" are too many cats?\")) #concatenate with the string() function\n",
    "println(string(10, \" cats are too many.\")) #convert integers to string literals\n",
    "println(name * name) #using the multiplier to concatenate\n",
    "println(\"$name $name\") #using interpolation to concatenate"
   ]
  },
  {
   "cell_type": "markdown",
   "metadata": {},
   "source": [
    "# Data Structures"
   ]
  },
  {
   "cell_type": "code",
   "execution_count": null,
   "metadata": {},
   "outputs": [],
   "source": []
  }
 ],
 "metadata": {
  "kernelspec": {
   "display_name": "Julia 1.7.1",
   "language": "julia",
   "name": "julia-1.7"
  },
  "language_info": {
   "file_extension": ".jl",
   "mimetype": "application/julia",
   "name": "julia",
   "version": "1.7.1"
  },
  "orig_nbformat": 4
 },
 "nbformat": 4,
 "nbformat_minor": 2
}
